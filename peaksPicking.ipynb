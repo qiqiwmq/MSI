{
 "cells": [
  {
   "cell_type": "markdown",
   "metadata": {},
   "source": [
    "# Filter non-sense Peaks in dataset"
   ]
  },
  {
   "cell_type": "code",
   "execution_count": 1,
   "metadata": {},
   "outputs": [],
   "source": [
    "import h5py\n",
    "import re\n",
    "import numpy as np\n",
    "import imageio\n",
    "import os"
   ]
  },
  {
   "cell_type": "code",
   "execution_count": 2,
   "metadata": {},
   "outputs": [
    {
     "name": "stdout",
     "output_type": "stream",
     "text": [
      "<KeysViewHDF5 ['cmz', 'counts_mat', 'dim_xy']>\n",
      "(106, 134, 1051)\n"
     ]
    }
   ],
   "source": [
    "path = \"D:/BMR-DS/Project_2/DataSet/count_matrix.h5\"\n",
    "f = h5py.File(path, 'r')\n",
    "print(f.keys())\n",
    "\n",
    "mz = np.array(f['cmz'])\n",
    "dim_xy = np.array(f[\"dim_xy\"])\n",
    "data = np.array(f[\"counts_mat\"])\n",
    "data = np.reshape(data, (dim_xy[1], dim_xy[0], data.shape[1]))\n",
    "\n",
    "print(data.shape)\n",
    "\n",
    "f.close()"
   ]
  },
  {
   "cell_type": "code",
   "execution_count": 3,
   "metadata": {},
   "outputs": [
    {
     "name": "stdout",
     "output_type": "stream",
     "text": [
      "1051\n"
     ]
    }
   ],
   "source": [
    "print(len(mz))"
   ]
  },
  {
   "cell_type": "code",
   "execution_count": 2,
   "metadata": {},
   "outputs": [
    {
     "name": "stdout",
     "output_type": "stream",
     "text": [
      "[[1, 2, 3], [0, 1, 3]]\n"
     ]
    }
   ],
   "source": [
    "z=[]\n",
    "z.append([1,2,3,4])\n",
    "z.append([0,1,3,4])\n",
    "print(z)"
   ]
  },
  {
   "cell_type": "markdown",
   "metadata": {},
   "source": [
    "## Read mz values common  in brain images"
   ]
  },
  {
   "cell_type": "code",
   "execution_count": 8,
   "metadata": {},
   "outputs": [
    {
     "name": "stdout",
     "output_type": "stream",
     "text": [
      "[255.2331, 283.2643, 284.27, 286.2831, 294.2439, 299.2592, 303.233, 306.233, 308.2595, 310.2752, 329.25, 331.27, 646.6144, 648.3882, 664.4195, 767.56, 778.59, 808.5134, 812.55, 816.575, 834.5948, 866.5917, 868.5921, 885.5742, 886.5742, 887.5647, 893.6488, 900.66, 903.5, 904.6189]\n"
     ]
    }
   ],
   "source": [
    "lpath = \"D:/BMR-DS/Project_2/DataSet/peaks.txt\"\n",
    "\n",
    "list = open(lpath)\n",
    "peaklist = []\n",
    "for i in list.readlines():\n",
    "    if i != \"\":\n",
    "        peaklist.append(float(i))\n",
    "print(peaklist)"
   ]
  },
  {
   "cell_type": "markdown",
   "metadata": {},
   "source": [
    "## Pick the peaks based on the list"
   ]
  },
  {
   "cell_type": "code",
   "execution_count": 14,
   "metadata": {},
   "outputs": [
    {
     "name": "stderr",
     "output_type": "stream",
     "text": [
      "Lossy conversion from float64 to uint8. Range [0.0, 1024.0]. Convert image to uint8 prior to saving to suppress this warning.\n",
      "Lossy conversion from float64 to uint8. Range [0.0, 852.0]. Convert image to uint8 prior to saving to suppress this warning.\n",
      "Lossy conversion from float64 to uint8. Range [0.0, 855.0]. Convert image to uint8 prior to saving to suppress this warning.\n",
      "Lossy conversion from float64 to uint8. Range [0.0, 1435.0]. Convert image to uint8 prior to saving to suppress this warning.\n",
      "Lossy conversion from float64 to uint8. Range [0.0, 885.0]. Convert image to uint8 prior to saving to suppress this warning.\n",
      "Lossy conversion from float64 to uint8. Range [0.0, 1500.0]. Convert image to uint8 prior to saving to suppress this warning.\n",
      "Lossy conversion from float64 to uint8. Range [0.0, 1216.0]. Convert image to uint8 prior to saving to suppress this warning.\n",
      "Lossy conversion from float64 to uint8. Range [0.0, 1228.0]. Convert image to uint8 prior to saving to suppress this warning.\n",
      "Lossy conversion from float64 to uint8. Range [0.0, 927.0]. Convert image to uint8 prior to saving to suppress this warning.\n",
      "Lossy conversion from float64 to uint8. Range [0.0, 1244.0]. Convert image to uint8 prior to saving to suppress this warning.\n",
      "Lossy conversion from float64 to uint8. Range [0.0, 990.0]. Convert image to uint8 prior to saving to suppress this warning.\n",
      "Lossy conversion from float64 to uint8. Range [0.0, 996.0]. Convert image to uint8 prior to saving to suppress this warning.\n",
      "Lossy conversion from float64 to uint8. Range [0.0, 1294.0]. Convert image to uint8 prior to saving to suppress this warning.\n",
      "Lossy conversion from float64 to uint8. Range [0.0, 1298.0]. Convert image to uint8 prior to saving to suppress this warning.\n",
      "Lossy conversion from float64 to uint8. Range [0.0, 1330.0]. Convert image to uint8 prior to saving to suppress this warning.\n",
      "Lossy conversion from float64 to uint8. Range [0.0, 1536.0]. Convert image to uint8 prior to saving to suppress this warning.\n",
      "Lossy conversion from float64 to uint8. Range [0.0, 1558.0]. Convert image to uint8 prior to saving to suppress this warning.\n",
      "Lossy conversion from float64 to uint8. Range [0.0, 1618.0]. Convert image to uint8 prior to saving to suppress this warning.\n",
      "Lossy conversion from float64 to uint8. Range [0.0, 1626.0]. Convert image to uint8 prior to saving to suppress this warning.\n",
      "Lossy conversion from float64 to uint8. Range [0.0, 2451.0]. Convert image to uint8 prior to saving to suppress this warning.\n",
      "Lossy conversion from float64 to uint8. Range [0.0, 1670.0]. Convert image to uint8 prior to saving to suppress this warning.\n",
      "Lossy conversion from float64 to uint8. Range [0.0, 1734.0]. Convert image to uint8 prior to saving to suppress this warning.\n",
      "Lossy conversion from float64 to uint8. Range [0.0, 1738.0]. Convert image to uint8 prior to saving to suppress this warning.\n",
      "Lossy conversion from float64 to uint8. Range [0.0, 1772.0]. Convert image to uint8 prior to saving to suppress this warning.\n",
      "Lossy conversion from float64 to uint8. Range [0.0, 1774.0]. Convert image to uint8 prior to saving to suppress this warning.\n",
      "Lossy conversion from float64 to uint8. Range [0.0, 1776.0]. Convert image to uint8 prior to saving to suppress this warning.\n",
      "Lossy conversion from float64 to uint8. Range [0.0, 1788.0]. Convert image to uint8 prior to saving to suppress this warning.\n",
      "Lossy conversion from float64 to uint8. Range [0.0, 1802.0]. Convert image to uint8 prior to saving to suppress this warning.\n",
      "Lossy conversion from float64 to uint8. Range [0.0, 1808.0]. Convert image to uint8 prior to saving to suppress this warning.\n",
      "Lossy conversion from float64 to uint8. Range [0.0, 1810.0]. Convert image to uint8 prior to saving to suppress this warning.\n"
     ]
    }
   ],
   "source": [
    "for p in peaklist:\n",
    "    image = np.zeros((dim_xy[1], dim_xy[0], 3))\n",
    "    for i in range(dim_xy[1]):\n",
    "        for j in range(dim_xy[0]):\n",
    "            position = np.where(np.ceil(data[i][j]) == np.ceil(p))[0]\n",
    "            if len(position) > 0:\n",
    "                image[i][j][0] = sum(data[i][j][position])\n",
    "                image[i][j][1] = sum(data[i][j][position])\n",
    "                image[i][j][2] = sum(data[i][j][position])\n",
    "    path = os.path.join('D:/BMR-DS/Project_2/DataSet/brain_100um_mz_peaks_new','brain_'+str(int(np.ceil(p)))+'.png')\n",
    "    imageio.imsave(path, image[:,:,1])\n",
    "    "
   ]
  },
  {
   "cell_type": "code",
   "execution_count": 15,
   "metadata": {},
   "outputs": [
    {
     "data": {
      "image/png": "[encoded data removed]",
      "text/plain": [
       "<Figure size 360x360 with 1 Axes>"
      ]
     },
     "metadata": {
      "needs_background": "light"
     },
     "output_type": "display_data"
    },
    {
     "data": {
      "text/plain": [
       "<matplotlib.image.AxesImage at 0x1bad7710e48>"
      ]
     },
     "execution_count": 15,
     "metadata": {},
     "output_type": "execute_result"
    },
    {
     "data": {
      "image/png": "[encoded data removed]",
      "text/plain": [
       "<Figure size 432x288 with 1 Axes>"
      ]
     },
     "metadata": {
      "needs_background": "light"
     },
     "output_type": "display_data"
    }
   ],
   "source": [
    "import matplotlib.pyplot as plt\n",
    "from PIL import Image\n",
    "fig = plt.figure(figsize = (5,5))\n",
    "p = plt.imshow(image[:, :, 2])\n",
    "#image = image\n",
    "#plt.imsave(os.path.join(\"D:/BMR-DS/Project_2/DataSet\",\"brain_\"+str(int(np.ceil(p)))+\".png\"), image)\n",
    "plt.show()\n",
    "\n",
    "path = \"D:/BMR-DS/Project_2/DataSet/brain_mz_peaks/brain_905.png\"\n",
    "img = Image.open(path)\n",
    "plt.imshow(np.array(img))"
   ]
  },
  {
   "cell_type": "markdown",
   "metadata": {},
   "source": [
    "## Calculate the resolution before and after saving to .png"
   ]
  },
  {
   "cell_type": "code",
   "execution_count": 16,
   "metadata": {},
   "outputs": [
    {
     "name": "stdout",
     "output_type": "stream",
     "text": [
      "Namespace(carma_det_idx=0, carma_gate_idx=0, channel=0, d_angle=20, d_bin=1, d_extract_angle=5.0, debug=False, directory='None', disable_hamming=False, enhance_contrast_on_save=False, evaluate_results=False, frc_curve_fit_degree=8, frc_curve_fit_type='smooth-spline', frc_mode='one-image', hollow_iterator=False, jupyter=False, min_filter=False, pathout=None, plot_size=(2.5, 2.5), resol_square=False, resolution_point_sigma=0.01, resolution_snr_value=0.25, resolution_threshold_criterion='half-bit', resolution_threshold_curve_fit_degree=3, resolution_threshold_value=0.14285714285714285, save_plots=False, scale=100, show_image=False, show_plots=False, temp_dir=None, test_drive=False, verbose=False, working_directory='/home/sami/Data')\n"
     ]
    }
   ],
   "source": [
    "import miplib.ui.plots.image as showim\n",
    "import miplib.data.io.read as imread\n",
    "import miplib.processing.image as imops\n",
    "from miplib.data.containers.image import Image as resImage\n",
    "\n",
    "import miplib.analysis.resolution.fourier_ring_correlation as frc\n",
    "from miplib.data.containers.fourier_correlation_data import FourierCorrelationDataCollection\n",
    "\n",
    "import miplib.ui.plots.frc as frcplots\n",
    "from miplib.ui.cli import miplib_entry_point_options as options\n",
    "\n",
    "import urllib.request as dl\n",
    "import miplib.data.io.read as imread\n",
    "\n",
    "args_list = (\"None --bin-delta=1  --frc-curve-fit-type=smooth-spline \"  \n",
    "             \" --resolution-threshold-criterion=half-bit\").split()\n",
    "            \n",
    "args = options.get_frc_script_options(args_list)\n",
    "\n",
    "print (args)"
   ]
  },
  {
   "cell_type": "code",
   "execution_count": 17,
   "metadata": {},
   "outputs": [
    {
     "name": "stdout",
     "output_type": "stream",
     "text": [
      "11964.422915495412\n",
      "640.5369102065163\n"
     ]
    }
   ],
   "source": [
    "resimage = resImage(image[:,:,0], [100.0, 100.0])\n",
    "frc_results = frc.calculate_single_image_frc(resimage, args)\n",
    "resimage = frc_results.resolution[\"resolution\"]\n",
    "print(resimage)\n",
    "\n",
    "resimg = resImage(img, [100.0, 100.0])\n",
    "frc_results = frc.calculate_single_image_frc(resimg, args)\n",
    "resimg = frc_results.resolution[\"resolution\"]\n",
    "print(resimg)"
   ]
  },
  {
   "cell_type": "markdown",
   "metadata": {},
   "source": [
    "## Calculate the ion image after peaks choosing"
   ]
  },
  {
   "cell_type": "code",
   "execution_count": 18,
   "metadata": {},
   "outputs": [
    {
     "name": "stdout",
     "output_type": "stream",
     "text": [
      "brain_284.png\n",
      "brain_285.png\n",
      "brain_287.png\n",
      "brain_295.png\n",
      "brain_304.png\n",
      "brain_307.png\n",
      "brain_309.png\n",
      "brain_647.png\n",
      "brain_649.png\n",
      "brain_665.png\n",
      "brain_768.png\n",
      "brain_779.png\n",
      "brain_817.png\n",
      "brain_835.png\n"
     ]
    }
   ],
   "source": [
    "fdrpath = \"D:/BMR-DS/Project_2/DataSet/brain_100um_mz_peaks_new\"\n",
    "flist = os.listdir(fdrpath)\n",
    "frc_results = dict()\n",
    "\n",
    "for f in flist:\n",
    "    fpath = os.path.join(fdrpath, f)\n",
    "    image = imageio.imread(fpath)\n",
    "    resimage = resImage(image, [100.0, 100.0])\n",
    "    try:\n",
    "        frc_results[f] = frc.calculate_single_image_frc(resimage, args)\n",
    "        resimage = frc_results[f].resolution[\"resolution\"]\n",
    "    except:\n",
    "        print(f)"
   ]
  },
  {
   "cell_type": "markdown",
   "metadata": {},
   "source": [
    "## Plot the failed ones without fitting \n",
    "\n",
    "brain_256.png\n",
    "\n",
    "brain_284.png\n",
    "\n",
    "brain_300.png\n",
    "\n",
    "brain_307.png"
   ]
  },
  {
   "cell_type": "code",
   "execution_count": 132,
   "metadata": {},
   "outputs": [
    {
     "name": "stdout",
     "output_type": "stream",
     "text": [
      "Frequency: \n",
      " [0.         0.03030303 0.06060606 0.09090909 0.12121212 0.15151516\n",
      " 0.18181819 0.21212122 0.24242425 0.27272728 0.3030303  0.33333334\n",
      " 0.36363637 0.3939394  0.42424244 0.45454547 0.4848485  0.5151515\n",
      " 0.54545456 0.57575756 0.6060606  0.6363636  0.6666667  0.6969697\n",
      " 0.72727275 0.75757575]\n",
      "Correlation: \n",
      " [0.22089237 0.24518846 0.4754541  0.7892015  0.8003994  0.7727234\n",
      " 0.96342444 0.99139416 0.9541179  0.7737663  0.6371397  0.49364263\n",
      " 0.32661927 0.47226584 0.33056343 0.116935   0.20781499 0.31109616\n",
      " 0.20716932 0.10392145 0.10566969 0.07045583 0.0523768  0.00266513\n",
      " 0.05747419 0.08476025]\n"
     ]
    },
    {
     "data": {
      "text/plain": [
       "[<matplotlib.lines.Line2D at 0x21e9f5c17f0>]"
      ]
     },
     "execution_count": 132,
     "metadata": {},
     "output_type": "execute_result"
    },
    {
     "data": {
      "image/png": "[encoded data removed]",
      "text/plain": [
       "<Figure size 360x360 with 1 Axes>"
      ]
     },
     "metadata": {
      "needs_background": "light"
     },
     "output_type": "display_data"
    }
   ],
   "source": [
    "fpath = \"D:/BMR-DS/Project_2/DataSet/brain_mz_peaks/brain_307.png\"\n",
    "image = imageio.imread(fpath)\n",
    "resimage = resImage(image, [100.0, 100.0])\n",
    "#frc_results[f] = frc.calculate_single_image_frc(resimage, args)\n",
    "#resimage = frc_results[f].resolution[\"resolution\"]\n",
    "frc_results = frc.calculate_single_image_frc_without_fit(resimage, args)\n",
    "X = frc_results[0].correlation[\"frequency\"]\n",
    "Y = frc_results[0].correlation[\"correlation\"]\n",
    "print(\"Frequency: \\n {}\".format(X))\n",
    "print(\"Correlation: \\n {}\".format(Y))\n",
    "\n",
    "plt.figure(figsize=(5,5))\n",
    "plt.plot(X, Y)\n"
   ]
  }
 ],
 "metadata": {
  "interpreter": {
   "hash": "6311569592bb816c5fc331b4589ce59e5fc5a973abd68897711765ac402d3d40"
  },
  "kernelspec": {
   "display_name": "Python 3.6.13 ('miplib')",
   "language": "python",
   "name": "python3"
  },
  "language_info": {
   "codemirror_mode": {
    "name": "ipython",
    "version": 3
   },
   "file_extension": ".py",
   "mimetype": "text/x-python",
   "name": "python",
   "nbconvert_exporter": "python",
   "pygments_lexer": "ipython3",
   "version": "3.6.13"
  },
  "orig_nbformat": 4
 },
 "nbformat": 4,
 "nbformat_minor": 2
}
